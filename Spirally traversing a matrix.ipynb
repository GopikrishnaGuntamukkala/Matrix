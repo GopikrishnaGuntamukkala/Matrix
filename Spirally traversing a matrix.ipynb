{
 "cells": [
  {
   "cell_type": "markdown",
   "id": "1b7ade82",
   "metadata": {},
   "source": [
    "# Given a matrix of size r*c. Traverse the matrix in spiral form.\n",
    "\n",
    "Example 1:\n",
    "\n",
    "Input:\n",
    "\n",
    "r = 4\n",
    "\n",
    "c = 4\n",
    "\n",
    "matrix[][] = {{1, 2, 3, 4},\n",
    "           \n",
    "            {5, 6, 7, 8},\n",
    "           \n",
    "            {9, 10, 11, 12},\n",
    "          \n",
    "            {13, 14, 15,16}}\n",
    "\n",
    "Output: \n",
    "\n",
    "1 2 3 4 8 12 16 15 14 13 9 5 6 7 11 10\n",
    "\n",
    "Example 2:\n",
    "\n",
    "Input:\n",
    "\n",
    "r = 3\n",
    "\n",
    "c = 4  \n",
    "\n",
    "matrix[][] = {{1, 2, 3, 4},\n",
    "           \n",
    "            {5, 6, 7, 8},\n",
    "          \n",
    "            {9, 10, 11, 12}}\n",
    "\n",
    "Output: \n",
    "\n",
    "1 2 3 4 8 12 11 10 9 5 6 7\n",
    "\n",
    "Explanation:\n",
    "Applying same technique as shown above, \n",
    "output for the 2nd testcase will be \n",
    "1 2 3 4 8 12 11 10 9 5 6 7.\n"
   ]
  },
  {
   "cell_type": "code",
   "execution_count": 3,
   "id": "520b2a33",
   "metadata": {},
   "outputs": [
    {
     "data": {
      "text/plain": [
       "[1, 2, 3, 4, 8, 12, 11, 10, 9, 5, 6, 7]"
      ]
     },
     "execution_count": 3,
     "metadata": {},
     "output_type": "execute_result"
    }
   ],
   "source": [
    "\n",
    "class Solution:\n",
    "    #Function to return a list of integers denoting spiral traversal of matrix.\n",
    "    def spirallyTraverse(self,matrix, r, c): \n",
    "        # code here \n",
    "        left = 0\n",
    "        right = c-1\n",
    "        top = 0 \n",
    "        bottom = r - 1\n",
    "        direction = 0\n",
    "        ans = []\n",
    "        while (top<=bottom and left<=right):\n",
    "            if direction==0:\n",
    "                for i in range(left, right+1):\n",
    "                    ans.append(matrix[top][i])\n",
    "                top+=1\n",
    "            elif direction==1:\n",
    "                for i in range(top, bottom+1):\n",
    "                    ans.append(matrix[i][right])\n",
    "                right-=1\n",
    "            elif direction==2:\n",
    "                for i in range(right, left-1,-1):\n",
    "                    ans.append(matrix[bottom][i])\n",
    "                bottom-=1\n",
    "            else:\n",
    "                for i in range(bottom, top-1,-1):\n",
    "                    ans.append(matrix[i][left])\n",
    "                left+=1\n",
    "            direction = (direction+1)%4\n",
    "        return ans\n",
    "r = 3\n",
    "c = 4  \n",
    "matrix = [[1, 2, 3, 4],\n",
    "           [5, 6, 7, 8],\n",
    "           [9, 10, 11, 12]]\n",
    "obj = Solution()\n",
    "obj.spirallyTraverse(matrix, r, c)"
   ]
  },
  {
   "cell_type": "code",
   "execution_count": null,
   "id": "7f7895da",
   "metadata": {},
   "outputs": [],
   "source": []
  }
 ],
 "metadata": {
  "kernelspec": {
   "display_name": "Python 3 (ipykernel)",
   "language": "python",
   "name": "python3"
  },
  "language_info": {
   "codemirror_mode": {
    "name": "ipython",
    "version": 3
   },
   "file_extension": ".py",
   "mimetype": "text/x-python",
   "name": "python",
   "nbconvert_exporter": "python",
   "pygments_lexer": "ipython3",
   "version": "3.9.12"
  }
 },
 "nbformat": 4,
 "nbformat_minor": 5
}
