{
 "cells": [
  {
   "cell_type": "markdown",
   "id": "a22d0f2c",
   "metadata": {},
   "source": [
    "# Given two integers M, N, and a 2D matrix Mat of dimensions MxN, clockwise rotate the elements in it.\n",
    "\n",
    "Example 1:\n",
    "\n",
    "Input:\n",
    "\n",
    "M=3\n",
    "\n",
    "N=3\n",
    "\n",
    "Mat=[[1,2,3],[4,5,6],[7,8,9]]\n",
    "\n",
    "Output:\n",
    "\n",
    "4 1 2\n",
    "\n",
    "7 5 3\n",
    "\n",
    "8 9 6\n",
    "\n",
    "Explanation:\n",
    "Rotating the matrix clockwise gives this result.\n",
    "\n",
    "Example 2:\n",
    "\n",
    "Input:\n",
    "\n",
    "M=2\n",
    "\n",
    "N=3\n",
    "\n",
    "Mat=[[1,2,3],[2,3,3]]\n",
    "\n",
    "Output:\n",
    "\n",
    "2 1 2\n",
    "\n",
    "3 3 3\n",
    "\n",
    "Explanation:\n",
    "Rotating the matrix clockwise gives this result."
   ]
  },
  {
   "cell_type": "code",
   "execution_count": 1,
   "id": "0c40faf6",
   "metadata": {},
   "outputs": [
    {
     "data": {
      "text/plain": [
       "[[4, 1, 2], [7, 5, 3], [8, 9, 6]]"
      ]
     },
     "execution_count": 1,
     "metadata": {},
     "output_type": "execute_result"
    }
   ],
   "source": [
    "\n",
    "class Solution:\n",
    "    def rotateMatrix(self, M, N, Mat):\n",
    "        #code here\n",
    "        left = 0\n",
    "        right = N-1\n",
    "        top = 0\n",
    "        bottom = M-1\n",
    "       \n",
    "        while(left<right and top<bottom):\n",
    "            prev = Mat[top+1][left]\n",
    "           \n",
    "            for i in range(left,right+1):\n",
    "                (Mat[top][i],prev) = (prev,Mat[top][i])\n",
    "               \n",
    "            top+=1\n",
    "               \n",
    "            for i in range(top,bottom+1):\n",
    "                (Mat[i][right],prev) = (prev,Mat[i][right])\n",
    "               \n",
    "            right-=1\n",
    "           \n",
    "            for i in range(right,left-1,-1):\n",
    "                (Mat[bottom][i],prev) = (prev,Mat[bottom][i])\n",
    "               \n",
    "            bottom-=1\n",
    "           \n",
    "            for i in range(bottom,top-1,-1):\n",
    "                (Mat[i][left],prev) = (prev,Mat[i][left])\n",
    "               \n",
    "            left+=1\n",
    "           \n",
    "        return Mat\n",
    "M=3\n",
    "N=3\n",
    "Mat=[[1,2,3],[4,5,6],[7,8,9]]\n",
    "obj = Solution()\n",
    "obj.rotateMatrix(M, N, Mat)"
   ]
  },
  {
   "cell_type": "code",
   "execution_count": null,
   "id": "f17b0e38",
   "metadata": {},
   "outputs": [],
   "source": []
  }
 ],
 "metadata": {
  "kernelspec": {
   "display_name": "Python 3 (ipykernel)",
   "language": "python",
   "name": "python3"
  },
  "language_info": {
   "codemirror_mode": {
    "name": "ipython",
    "version": 3
   },
   "file_extension": ".py",
   "mimetype": "text/x-python",
   "name": "python",
   "nbconvert_exporter": "python",
   "pygments_lexer": "ipython3",
   "version": "3.9.12"
  }
 },
 "nbformat": 4,
 "nbformat_minor": 5
}
