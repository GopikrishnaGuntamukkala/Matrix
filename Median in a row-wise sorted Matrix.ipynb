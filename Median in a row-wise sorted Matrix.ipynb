{
 "cells": [
  {
   "cell_type": "markdown",
   "id": "d1515826",
   "metadata": {},
   "source": [
    "# Given a row wise sorted matrix of size RxC where R and C are always odd, find the median of the matrix.\n",
    "\n",
    "Example 1:\n",
    "\n",
    "Input:\n",
    "\n",
    "R = 3, C = 3\n",
    "\n",
    "M = [[1, 3, 5], \n",
    "     \n",
    "     [2, 6, 9], \n",
    "     \n",
    "     [3, 6, 9]]\n",
    "\n",
    "Output: 5\n",
    "\n",
    "Explanation:\n",
    "Sorting matrix elements gives us \n",
    "{1,2,3,3,5,6,6,9,9}. \n",
    "\n",
    "Hence, 5 is median. \n",
    " \n",
    "\n",
    "Example 2:\n",
    "\n",
    "Input:\n",
    "\n",
    "R = 3, C = 1\n",
    "\n",
    "M = [[1], [2], [3]]\n",
    "\n",
    "Output: 2"
   ]
  },
  {
   "cell_type": "code",
   "execution_count": 5,
   "id": "f5b8c715",
   "metadata": {},
   "outputs": [
    {
     "data": {
      "text/plain": [
       "2"
      ]
     },
     "execution_count": 5,
     "metadata": {},
     "output_type": "execute_result"
    }
   ],
   "source": [
    "class Solution:\n",
    "    def median(self, matrix, r, c):\n",
    "\n",
    "        # First Opening the whole matrix in a list\n",
    "        res = []\n",
    "        for i in range(len(matrix)):\n",
    "            for j in range(len(matrix[i])):\n",
    "                res.append(matrix[i][j])\n",
    "\n",
    "        # Sorting the list\n",
    "        sortedLst = sorted(res)\n",
    "        lstLen = len(res)\n",
    "        index = (lstLen - 1) // 2\n",
    "\n",
    "        # Finding the Median \n",
    "        if (lstLen % 2):\n",
    "            return sortedLst[index]\n",
    "        else:\n",
    "            return (sortedLst[index] + sortedLst[index + 1])//2\n",
    "   \n",
    "\n",
    "\n",
    "r = 3\n",
    "c = 1\n",
    "matrix = [[1], [2], [3]]\n",
    "obj = Solution()\n",
    "obj.median(matrix, r, c)"
   ]
  },
  {
   "cell_type": "code",
   "execution_count": null,
   "id": "eac9e9ba",
   "metadata": {},
   "outputs": [],
   "source": []
  }
 ],
 "metadata": {
  "kernelspec": {
   "display_name": "Python 3 (ipykernel)",
   "language": "python",
   "name": "python3"
  },
  "language_info": {
   "codemirror_mode": {
    "name": "ipython",
    "version": 3
   },
   "file_extension": ".py",
   "mimetype": "text/x-python",
   "name": "python",
   "nbconvert_exporter": "python",
   "pygments_lexer": "ipython3",
   "version": "3.9.12"
  }
 },
 "nbformat": 4,
 "nbformat_minor": 5
}
