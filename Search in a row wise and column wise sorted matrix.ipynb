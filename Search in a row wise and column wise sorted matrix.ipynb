{
 "cells": [
  {
   "cell_type": "markdown",
   "id": "fc137f92",
   "metadata": {},
   "source": [
    "# Given a matrix of size n x m, where every row and column is sorted in increasing order, and a number x. Find whether element x is present in the matrix or not.\n",
    "\n",
    "Example 1:\n",
    "\n",
    "Input:\n",
    "\n",
    "n = 3, m = 3, x = 62\n",
    "\n",
    "matrix[][] = {{ 3, 30, 38},\n",
    "              {36, 43, 60},\n",
    "              {40, 51, 69}}\n",
    "\n",
    "Output: 0\n",
    "\n",
    "Explanation:\n",
    "62 is not present in the matrix, \n",
    "so output is 0.\n",
    "\n",
    "Example 2:\n",
    "\n",
    "Input:\n",
    "\n",
    "n = 1, m = 6, x = 55\n",
    "\n",
    "matrix[][] = {{18, 21, 27, 38, 55, 67}}\n",
    "\n",
    "Output: 1\n",
    "\n",
    "Explanation: 55 is present in the matrix."
   ]
  },
  {
   "cell_type": "code",
   "execution_count": 2,
   "id": "63a1e98a",
   "metadata": {},
   "outputs": [
    {
     "data": {
      "text/plain": [
       "'Element found in the given array.......'"
      ]
     },
     "execution_count": 2,
     "metadata": {},
     "output_type": "execute_result"
    }
   ],
   "source": [
    "\n",
    "class Solution:\n",
    "    #Function to search a given number in row-column sorted matrix.\n",
    "    def search(self,matrix, n, m, x): \n",
    "    \t# code here \n",
    "    \tfor i in range(n):\n",
    "    \t    for j in range(m):\n",
    "    \t        if matrix[i][j]==x:\n",
    "    \t            return \"Element found in the given array.......\"\n",
    "    \treturn \"Element not found in the given array.......\"\n",
    "n = 1\n",
    "m = 6\n",
    "x = 55\n",
    "matrix=[[18,21,27,38,55,67]]\n",
    "obj = Solution()\n",
    "obj.search(matrix, n , m, x)"
   ]
  },
  {
   "cell_type": "code",
   "execution_count": null,
   "id": "d248f5e3",
   "metadata": {},
   "outputs": [],
   "source": []
  }
 ],
 "metadata": {
  "kernelspec": {
   "display_name": "Python 3 (ipykernel)",
   "language": "python",
   "name": "python3"
  },
  "language_info": {
   "codemirror_mode": {
    "name": "ipython",
    "version": 3
   },
   "file_extension": ".py",
   "mimetype": "text/x-python",
   "name": "python",
   "nbconvert_exporter": "python",
   "pygments_lexer": "ipython3",
   "version": "3.9.12"
  }
 },
 "nbformat": 4,
 "nbformat_minor": 5
}
