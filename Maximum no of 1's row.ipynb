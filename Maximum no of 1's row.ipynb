{
 "cells": [
  {
   "cell_type": "markdown",
   "id": "dddb996e",
   "metadata": {},
   "source": [
    "# Given a boolean 2D array, where each row is sorted. Find the row with the maximum number of 1s.\n",
    "\n",
    "Example 1:\n",
    "\n",
    "Input:\n",
    "\n",
    "N = 3, M = 4\n",
    "\n",
    "Mat[] = {{0 1 1 1},\n",
    "         \n",
    "         {0 0 1 1},\n",
    "         \n",
    "         {0 0 1 1}}\n",
    "\n",
    "Output: 0\n",
    "\n",
    "Explanation: Row 0 has 3 ones whereas\n",
    "rows 1 and 2 have just 2 ones.\n",
    "\n",
    "\n",
    "\n",
    "Input: \n",
    "\n",
    "N = 2, M = 2\n",
    "\n",
    "Mat[] = {{0 1},\n",
    "         \n",
    "        {1 1}}\n",
    "\n",
    "Output: 1\n",
    "\n",
    "Explanation: Row 1 has 2 ones whereas\n",
    "row 0 has just a single one. "
   ]
  },
  {
   "cell_type": "code",
   "execution_count": 3,
   "id": "4aa920e0",
   "metadata": {},
   "outputs": [
    {
     "data": {
      "text/plain": [
       "'Index of the given arrays which have more ones is 1'"
      ]
     },
     "execution_count": 3,
     "metadata": {},
     "output_type": "execute_result"
    }
   ],
   "source": [
    "class Solution:\n",
    "    def maxOnes (self, Mat, N, M):\n",
    "        # code here \n",
    "        index=0\n",
    "        max=0\n",
    "        for i in range(N):\n",
    "            c=0\n",
    "            for j in range(M):\n",
    "                if Mat[i][j]==1:\n",
    "                    c+=1\n",
    "                if c>max:\n",
    "                    max=c\n",
    "                    index=i\n",
    "        return \"Index of the given arrays which have more ones is \"+str(index)\n",
    "N = 2\n",
    "M = 2\n",
    "Mat = [[0,1],[1,1]]\n",
    "obj = Solution()\n",
    "obj.maxOnes(Mat, N, M)"
   ]
  },
  {
   "cell_type": "code",
   "execution_count": null,
   "id": "7e655898",
   "metadata": {},
   "outputs": [],
   "source": []
  }
 ],
 "metadata": {
  "kernelspec": {
   "display_name": "Python 3 (ipykernel)",
   "language": "python",
   "name": "python3"
  },
  "language_info": {
   "codemirror_mode": {
    "name": "ipython",
    "version": 3
   },
   "file_extension": ".py",
   "mimetype": "text/x-python",
   "name": "python",
   "nbconvert_exporter": "python",
   "pygments_lexer": "ipython3",
   "version": "3.9.12"
  }
 },
 "nbformat": 4,
 "nbformat_minor": 5
}
