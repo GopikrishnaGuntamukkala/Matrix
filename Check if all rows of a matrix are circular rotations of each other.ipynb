{
 "cells": [
  {
   "cell_type": "markdown",
   "id": "dc9e40ea",
   "metadata": {},
   "source": [
    "# Given a matrix of n*n size, the task is to find whether all rows are circular rotations of each other or not. \n",
    "\n",
    "Examples: \n",
    "\n"
   ]
  },
  {
   "cell_type": "code",
   "execution_count": null,
   "id": "9e60fe7e",
   "metadata": {},
   "outputs": [],
   "source": [
    "'''\n",
    "Input: mat[][] = 1, 2, 3\n",
    "                 3, 1, 2\n",
    "                 2, 3, 1\n",
    "Output:  Yes\n",
    "All rows are rotated permutation\n",
    "of each other.\n",
    "\n",
    "Input: mat[3][3] = 1, 2, 3\n",
    "                   3, 2, 1\n",
    "                   1, 3, 2\n",
    "Output:  No\n",
    "Explanation : As 3, 2, 1 is not a rotated or \n",
    "circular permutation of 1, 2, 3\n",
    "'''"
   ]
  },
  {
   "cell_type": "code",
   "execution_count": 1,
   "id": "26097f77",
   "metadata": {},
   "outputs": [
    {
     "name": "stdout",
     "output_type": "stream",
     "text": [
      "Yes\n"
     ]
    }
   ],
   "source": [
    "# Python3 program to check if all rows of a matrix are rotations of each other\n",
    "\n",
    "MAX = 1000\n",
    "\n",
    "# Returns true if all rows of mat[0..n-1][0..n-1] are rotations of each other.\n",
    "def isPermutedMatrix(mat, n) :\n",
    "\t\n",
    "\t# Creating a string that contains elements of first row.\n",
    "\tstr_cat = \"\"\n",
    "\tfor i in range(n) :\n",
    "\t\tstr_cat = str_cat + \"-\" + str(mat[0][i])\n",
    "\n",
    "\t# Concatenating the string with itself so that substring search operations can be performed on this\n",
    "\tstr_cat = str_cat + str_cat\n",
    "\n",
    "\t# Start traversing remaining rows\n",
    "\tfor i in range(1, n) :\n",
    "\t\t\n",
    "\t\t# Store the matrix into vector in the form of strings\n",
    "\t\tcurr_str = \"\"\n",
    "\t\t\n",
    "\t\tfor j in range(n) :\n",
    "\t\t\tcurr_str = curr_str + \"-\" + str(mat[i][j])\n",
    "\n",
    "\t\t# Check if the current string is present in the concatenated string or not\n",
    "\t\tif (str_cat.find(curr_str)) :\n",
    "\t\t\treturn True\n",
    "\t\t\t\n",
    "\treturn False\n",
    "\n",
    "# Driver code\n",
    "if __name__ == \"__main__\" :\n",
    "\tn = 4\n",
    "\tmat = [[1, 2, 3, 4],\n",
    "\t\t[4, 1, 2, 3],\n",
    "\t\t[3, 4, 1, 2],\n",
    "\t\t[2, 3, 4, 1]]\n",
    "\t\n",
    "\tif (isPermutedMatrix(mat, n)):\n",
    "\t\tprint(\"Yes\")\n",
    "\telse :\n",
    "\t\tprint(\"No\")\n",
    "\t\t\n",
    "\n"
   ]
  },
  {
   "cell_type": "code",
   "execution_count": null,
   "id": "f44ab7ca",
   "metadata": {},
   "outputs": [],
   "source": []
  }
 ],
 "metadata": {
  "kernelspec": {
   "display_name": "Python 3 (ipykernel)",
   "language": "python",
   "name": "python3"
  },
  "language_info": {
   "codemirror_mode": {
    "name": "ipython",
    "version": 3
   },
   "file_extension": ".py",
   "mimetype": "text/x-python",
   "name": "python",
   "nbconvert_exporter": "python",
   "pygments_lexer": "ipython3",
   "version": "3.9.12"
  }
 },
 "nbformat": 4,
 "nbformat_minor": 5
}
