{
 "cells": [
  {
   "cell_type": "markdown",
   "id": "ad688b56",
   "metadata": {},
   "source": [
    "# Given a matrix containing lower alphabetical characters only, we need to print all palindromic paths in given matrix. A path is defined as a sequence of cells starting from top-left cell and ending at bottom-right cell. We are allowed to move to right and down only from current cell. We cannot go down diagonally. \n",
    "\n",
    "Example: \n",
    " \n",
    "\n",
    "Input : mat[][] = {\"aaab”, \n",
    "                   \"baaa”\n",
    "                   “abba”}\n",
    "\n",
    "Output :aaaaaa, aaaaaa, abaaba\n"
   ]
  },
  {
   "cell_type": "code",
   "execution_count": null,
   "id": "e472a316",
   "metadata": {},
   "outputs": [],
   "source": [
    "'''\n",
    "Explanation :\n",
    "aaaaaa (0, 0) -> (0, 1) -> (1, 1) -> \n",
    "       (1, 2) -> (1, 3) -> (2, 3)    \n",
    "aaaaaa (0, 0) -> (0, 1) -> (0, 2) -> \n",
    "       (1, 2) -> (1, 3) -> (2, 3)    \n",
    "abaaba (0, 0) -> (1, 0) -> (1, 1) -> \n",
    "       (1, 2) -> (2, 2) -> (2, 3)\n",
    "Order of elements in the output array doesn’t matter.\n",
    " '''"
   ]
  },
  {
   "cell_type": "code",
   "execution_count": 2,
   "id": "339a2078",
   "metadata": {},
   "outputs": [
    {
     "name": "stdout",
     "output_type": "stream",
     "text": [
      "abaaba\n",
      "aaaaaa\n",
      "aaaaaa\n"
     ]
    }
   ],
   "source": [
    "# Python 3 program to print all palindromic paths from top left to bottom right in a grid.\n",
    "\n",
    "def isPalin(str):\n",
    "\n",
    "\tl = len(str) // 2\n",
    "\tfor i in range( l) :\n",
    "\t\tif (str[i] != str[len(str) - i - 1]):\n",
    "\t\t\treturn False\n",
    "\t\t\n",
    "\treturn True\n",
    "\n",
    "# i and j are row and column indexes of current cell (initially these are 0 and 0).\n",
    "def palindromicPath(str, a, i, j, m, n):\n",
    "\t\t\n",
    "\t# If we have not reached bottom right corner, keep exploring\n",
    "\tif (j < m - 1 or i < n - 1) :\n",
    "\t\tif (i < n - 1):\n",
    "\t\t\tpalindromicPath(str + a[i][j], a,\n",
    "\t\t\t\t\t\t\ti + 1, j, m, n)\n",
    "\t\tif (j < m - 1):\n",
    "\t\t\tpalindromicPath(str + a[i][j], a,\n",
    "\t\t\t\t\t\t\ti, j + 1, m, n)\n",
    "\n",
    "\t# If we reach bottom right corner, we check if the path used is  palindrome or not.\n",
    "\telse :\n",
    "\t\tstr = str + a[n - 1][m - 1]\n",
    "\t\tif isPalin(str):\n",
    "\t\t\tprint(str)\n",
    "\n",
    "# Driver code\n",
    "if __name__ == \"__main__\":\n",
    "\t\n",
    "\tarr = [[ 'a', 'a', 'a', 'b' ],\n",
    "\t\t['b', 'a', 'a', 'a' ],\n",
    "\t\t[ 'a', 'b', 'b', 'a' ]]\n",
    "\tstr = \"\"\n",
    "\tpalindromicPath(str, arr, 0, 0, 4, 3)\n",
    "\n"
   ]
  },
  {
   "cell_type": "code",
   "execution_count": null,
   "id": "263d2b0f",
   "metadata": {},
   "outputs": [],
   "source": []
  }
 ],
 "metadata": {
  "kernelspec": {
   "display_name": "Python 3 (ipykernel)",
   "language": "python",
   "name": "python3"
  },
  "language_info": {
   "codemirror_mode": {
    "name": "ipython",
    "version": 3
   },
   "file_extension": ".py",
   "mimetype": "text/x-python",
   "name": "python",
   "nbconvert_exporter": "python",
   "pygments_lexer": "ipython3",
   "version": "3.9.12"
  }
 },
 "nbformat": 4,
 "nbformat_minor": 5
}
